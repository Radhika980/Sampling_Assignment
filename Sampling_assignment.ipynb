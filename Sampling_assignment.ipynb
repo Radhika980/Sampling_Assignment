{
 "cells": [
  {
   "cell_type": "code",
   "execution_count": 1,
   "metadata": {},
   "outputs": [],
   "source": [
    "import pandas as pd\n",
    "from imblearn.over_sampling import SMOTE\n",
    "from sklearn.model_selection import train_test_split\n",
    "from sklearn.cluster import KMeans\n",
    "import random\n",
    "from sklearn.model_selection import train_test_split\n",
    "from sklearn.model_selection import cross_val_score\n",
    "from imblearn.over_sampling import SMOTE\n",
    "from sklearn.ensemble import RandomForestClassifier\n",
    "from sklearn import svm\n",
    "from sklearn.naive_bayes import GaussianNB\n",
    "from sklearn.linear_model import LogisticRegression\n",
    "from sklearn.tree import DecisionTreeClassifier\n",
    "import threading\n",
    "from sklearn.metrics import accuracy_score"
   ]
  },
  {
   "cell_type": "code",
   "execution_count": 2,
   "metadata": {},
   "outputs": [],
   "source": [
    "# RANDOM FOREST CLASSIFER\n",
    "def Random_forest(X_test, X_train, y_test, Y_train, i):\n",
    "   rfc = RandomForestClassifier()\n",
    "   rfc.fit(X_train,Y_train)\n",
    "   y_pred = rfc.predict(X_test)\n",
    "   accuracy = accuracy_score(y_test, y_pred)\n",
    "   print(f\"%d Accuracy from Random forest:  {accuracy}\"  %(i))"
   ]
  },
  {
   "cell_type": "code",
   "execution_count": 3,
   "metadata": {},
   "outputs": [],
   "source": [
    "#SUPPORT VECTOR MACHINE (SVM)\n",
    "def support_vector(X_test, X_train, y_test, Y_train, i):\n",
    "   clf = svm.SVC(kernel='linear')\n",
    "   clf.fit(X_train, Y_train)\n",
    "   y_pred = clf.predict(X_test)\n",
    "   accuracy = accuracy_score(y_test, y_pred)\n",
    "   print(f\"%d Accuracy from SVM:  {accuracy}\"  %(i))"
   ]
  },
  {
   "cell_type": "code",
   "execution_count": 4,
   "metadata": {},
   "outputs": [],
   "source": [
    "#NAIVE BAYES\n",
    "def Naive(X_test, X_train, y_test, Y_train, i):\n",
    "   naive = GaussianNB()\n",
    "   naive.fit(X_train, Y_train)\n",
    "   y_pred = naive.predict(X_test)\n",
    "   accuracy = accuracy_score(y_test, y_pred)\n",
    "   print(f\"%d Accuracy from Naive:  {accuracy}\"  %(i))"
   ]
  },
  {
   "cell_type": "code",
   "execution_count": 5,
   "metadata": {},
   "outputs": [],
   "source": [
    "#LOGISTIC REGRESSION\n",
    "def LR(X_test, X_train, y_test, Y_train, i):\n",
    "   logreg = LogisticRegression(max_iter=1000)\n",
    "   logreg.fit(X_train, Y_train)\n",
    "   y_pred = logreg.predict(X_test)\n",
    "   accuracy = accuracy_score(y_test, y_pred)\n",
    "   print(f\"%d Accuracy from Logistic Regression:  {accuracy}\"  %(i))"
   ]
  },
  {
   "cell_type": "code",
   "execution_count": 6,
   "metadata": {},
   "outputs": [],
   "source": [
    "#DECISION TREE CLASSIFIER\n",
    "def decision_tree(X_test, X_train, y_test, Y_train, i):\n",
    "   clf = DecisionTreeClassifier()\n",
    "   clf.fit(X_train, Y_train)\n",
    "   y_pred = clf.predict(X_test)\n",
    "   accuracy = accuracy_score(y_test, y_pred)\n",
    "   print(f\"%d Accuracy from Decision Tree:  {accuracy}\"  %(i))"
   ]
  },
  {
   "cell_type": "code",
   "execution_count": 7,
   "metadata": {},
   "outputs": [],
   "source": [
    "df = pd.read_csv(\"Creditcard_data.csv\")\n",
    "X = df.drop(\"Class\", axis=1)\n",
    "y = df[\"Class\"]\n",
    "X_train, X_test, y_train, y_test = train_test_split(X, y, test_size=0.3, random_state=42)"
   ]
  },
  {
   "cell_type": "code",
   "execution_count": 8,
   "metadata": {},
   "outputs": [],
   "source": [
    "sm = SMOTE(random_state=42)\n",
    "X_train_bal, y_train_bal = sm.fit_resample(X_train, y_train)\n",
    "balanced_df = pd.concat([X_train_bal, y_train_bal], axis=1)"
   ]
  },
  {
   "cell_type": "code",
   "execution_count": 9,
   "metadata": {},
   "outputs": [],
   "source": [
    "#Simple Random Sampling\n",
    "n = int((1.96*1.96 * 0.5*0.5)/(0.05**2))\n",
    "data_samp1 = balanced_df.sample(n, random_state=50)\n",
    "X_train_samp1 = data_samp1.drop(\"Class\", axis=1)\n",
    "y_train_samp1 = data_samp1[\"Class\"]"
   ]
  },
  {
   "cell_type": "code",
   "execution_count": 10,
   "metadata": {},
   "outputs": [],
   "source": [
    "#Stratified sampling\n",
    "X_train_samp2, _, y_train_samp2, _ = train_test_split(X_train_bal, y_train_bal,train_size=308, random_state=42, stratify=y_train_bal)"
   ]
  },
  {
   "cell_type": "code",
   "execution_count": 11,
   "metadata": {},
   "outputs": [],
   "source": [
    "#Systematic Clustering\n",
    "sample_size = 308\n",
    "sampling_interval = len(X_train_bal) // sample_size\n",
    "starting_point = random.randint(0, sampling_interval-1)\n",
    "X_train_samp3 = pd.DataFrame()\n",
    "y_train_samp3 = pd.Series(dtype=object)\n",
    "for i in range(starting_point, len(X_train), sampling_interval):\n",
    "   X_train_samp3 = pd.concat([X_train_samp3, X_train.iloc[[i]]])\n",
    "   y_train_samp3 = pd.concat([y_train_samp3, y_train.iloc[[i]]])\n",
    "   if len(X_train_samp3) == sample_size:\n",
    "      break"
   ]
  },
  {
   "cell_type": "code",
   "execution_count": 12,
   "metadata": {},
   "outputs": [],
   "source": [
    "#Cluster Sampling\n",
    "kmeans = KMeans(n_clusters=10, random_state=42).fit(balanced_df)\n",
    "cluster_assignments = kmeans.labels_\n",
    "selected_clusters = [0, 2, 4, 5, 8]\n",
    "cluster_series = pd.Series(cluster_assignments)\n",
    "df_cluster_sample = balanced_df[cluster_series.isin(selected_clusters)]\n",
    "X_train_samp4 = df_cluster_sample.drop(\"Class\", axis=1)\n",
    "y_train_samp4 = df_cluster_sample[\"Class\"]"
   ]
  },
  {
   "cell_type": "code",
   "execution_count": 13,
   "metadata": {},
   "outputs": [],
   "source": [
    "#Convenience sampling\n",
    "convenience_sample = pd.concat([balanced_df.head(155),balanced_df.tail(155)])\n",
    "X_train_samp5 = convenience_sample.drop(\"Class\", axis=1)\n",
    "y_train_samp5 = convenience_sample[\"Class\"]"
   ]
  },
  {
   "cell_type": "code",
   "execution_count": 14,
   "metadata": {},
   "outputs": [
    {
     "name": "stdout",
     "output_type": "stream",
     "text": [
      "1 Accuracy from Decision Tree:  0.9525862068965517\n",
      "1 Accuracy from Naive:  0.9396551724137931\n",
      "1 Accuracy from Logistic Regression:  0.9094827586206896\n",
      "1 Accuracy from Random forest:  0.9870689655172413\n",
      "1 Accuracy from SVM:  0.9094827586206896\n",
      "2 Accuracy from Naive:  0.9396551724137931\n",
      "2 Accuracy from Decision Tree:  0.9396551724137931\n",
      "2 Accuracy from Logistic Regression:  0.8879310344827587\n",
      "2 Accuracy from Random forest:  0.9827586206896551\n",
      "2 Accuracy from SVM:  0.8922413793103449\n",
      "3 Accuracy from Naive:  0.9741379310344828\n",
      "3 Accuracy from SVM:  0.9870689655172413\n",
      "3 Accuracy from Decision Tree:  0.9741379310344828\n",
      "3 Accuracy from Logistic Regression:  0.9870689655172413\n",
      "3 Accuracy from Random forest:  0.9870689655172413\n",
      "4 Accuracy from Naive:  0.9612068965517241\n",
      "4 Accuracy from Decision Tree:  0.9612068965517241\n",
      "4 Accuracy from Logistic Regression:  0.9051724137931034\n",
      "4 Accuracy from Random forest:  0.9870689655172413\n",
      "4 Accuracy from SVM:  0.9137931034482759\n",
      "5 Accuracy from Naive:  0.9396551724137931\n",
      "5 Accuracy from Decision Tree:  0.9224137931034483\n",
      "5 Accuracy from Logistic Regression:  0.8663793103448276\n",
      "5 Accuracy from Random forest:  0.9827586206896551\n",
      "5 Accuracy from SVM:  0.8793103448275862\n"
     ]
    }
   ],
   "source": [
    "threads = []\n",
    "for i in range (1,6):\n",
    "   X_arg_name = 'X_train_samp{}'.format(i)\n",
    "   X_arg_value = globals()[X_arg_name]\n",
    "   y_arg_name = 'y_train_samp{}'.format(i)\n",
    "   y_arg_value = globals()[y_arg_name]\n",
    "   t1 = threading.Thread(target=Random_forest, args=(X_test, X_arg_value, y_test, y_arg_value, i,))\n",
    "   t2 = threading.Thread(target=support_vector, args=(X_test, X_arg_value, y_test, y_arg_value, i,))\n",
    "   t3 = threading.Thread(target=Naive, args=(X_test, X_arg_value, y_test, y_arg_value, i,))\n",
    "   t4 = threading.Thread(target=LR, args=(X_test, X_arg_value, y_test, y_arg_value, i,))\n",
    "   t5 = threading.Thread(target=decision_tree, args=(X_test, X_arg_value, y_test, y_arg_value, i,))\n",
    "   t1.start()\n",
    "   t2.start()\n",
    "   t3.start()\n",
    "   t4.start()\n",
    "   t5.start()\n",
    "   t1.join()\n",
    "   t2.join()\n",
    "   t3.join()\n",
    "   t4.join()\n",
    "   t5.join()"
   ]
  }
 ],
 "metadata": {
  "kernelspec": {
   "display_name": "Python 3",
   "language": "python",
   "name": "python3"
  },
  "language_info": {
   "codemirror_mode": {
    "name": "ipython",
    "version": 3
   },
   "file_extension": ".py",
   "mimetype": "text/x-python",
   "name": "python",
   "nbconvert_exporter": "python",
   "pygments_lexer": "ipython3",
   "version": "3.10.4"
  },
  "orig_nbformat": 4,
  "vscode": {
   "interpreter": {
    "hash": "26de051ba29f2982a8de78e945f0abaf191376122a1563185a90213a26c5da77"
   }
  }
 },
 "nbformat": 4,
 "nbformat_minor": 2
}
